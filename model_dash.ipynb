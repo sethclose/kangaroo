{
 "cells": [
  {
   "cell_type": "markdown",
   "id": "1929649c-c1cc-4dfa-87b4-a38e7beab0f9",
   "metadata": {},
   "source": [
    "# Model Dashboard"
   ]
  },
  {
   "cell_type": "markdown",
   "id": "2c8500f3-62ab-47b1-915e-e9eb19cb96f5",
   "metadata": {},
   "source": [
    "#### Links"
   ]
  },
  {
   "cell_type": "markdown",
   "id": "c0263c6e-0105-4c28-9b08-9df290d839e7",
   "metadata": {},
   "source": [
    "``https://medium.com/plotly/how-to-create-a-beautiful-interactive-dashboard-layout-in-python-with-plotly-dash-a45c57bb2f3c``"
   ]
  },
  {
   "cell_type": "markdown",
   "id": "7c3c9ea3-d31e-46f3-a0fc-f6eebb6e9fd3",
   "metadata": {},
   "source": [
    "``https://fonts.google.com/?query=poppins&preview.text=poppins.``"
   ]
  },
  {
   "cell_type": "markdown",
   "id": "816eb4fc-406c-42cb-ab86-a99587b00fb4",
   "metadata": {},
   "source": [
    "``https://github.com/plotly/datasets/tree/master/dash-layout-tutorial``"
   ]
  },
  {
   "cell_type": "code",
   "execution_count": 1,
   "id": "156d58f7-04ef-432c-be37-80b1320bd1d6",
   "metadata": {},
   "outputs": [
    {
     "data": {
      "text/html": [
       "\n",
       "        <iframe\n",
       "            width=\"100%\"\n",
       "            height=\"650\"\n",
       "            src=\"http://127.0.0.1:8050/\"\n",
       "            frameborder=\"0\"\n",
       "            allowfullscreen\n",
       "            \n",
       "        ></iframe>\n",
       "        "
      ],
      "text/plain": [
       "<IPython.lib.display.IFrame at 0x21f3c71cb00>"
      ]
     },
     "metadata": {},
     "output_type": "display_data"
    }
   ],
   "source": [
    "from dash import Dash, html, dcc\n",
    "import dash_bootstrap_components as dbc\n",
    "\n",
    "import plotly.graph_objects as go\n",
    "import numpy as np\n",
    "import random\n",
    "\n",
    "app = Dash(__name__, external_stylesheets=[dbc.themes.FLATLY])\n",
    "\n",
    "fig = go.Figure(\n",
    "    go.Scattergl(\n",
    "        x = np.random.randn(1000),\n",
    "        y = np.random.randn(1000),\n",
    "        mode='markers',\n",
    "        marker=dict(color=random.sample(['#ecf0f1']*500 + [\"#3498db\"]*500, 1000), line_width=1)\n",
    "    )\n",
    ")\n",
    "fig.update_layout(plot_bgcolor='#010103', width=790, height=730,\n",
    "                  xaxis_visible=False, yaxis_visible=False, showlegend=False, margin=dict(l=0,r=0,t=0,b=0))\n",
    "\n",
    "app.layout = dbc.Container([\n",
    "    html.Div([\n",
    "        html.Div([\n",
    "            html.H1([\n",
    "                html.Span(\"Welcome\"),\n",
    "                html.Br(),\n",
    "                html.Span(\"to my beautiful dashboard!\")\n",
    "            ]),\n",
    "            html.\n",
    "            P(\"This dashboard prototype shows how to create an effective layout.\"\n",
    "              )\n",
    "        ],\n",
    "                 style={\"vertical-alignment\": \"top\", \"height\": 260}),\n",
    "        html.Div([\n",
    "            html.Div(\n",
    "                dbc.RadioItems(\n",
    "                    className='btn-group',\n",
    "                    inputClassName='btn-check',\n",
    "                    labelClassName=\"btn btn-outline-light\",\n",
    "                    labelCheckedClassName=\"btn btn-light\",\n",
    "                    options=[\n",
    "                        {\"label\": \"Graph\", \"value\": 1},\n",
    "                        {\"label\": \"Table\", \"value\": 2}\n",
    "                    ],\n",
    "                    value=1,\n",
    "                    style={'width': '100%'}\n",
    "                ), style={'width': 206}\n",
    "            ),\n",
    "            html.Div(\n",
    "                dbc.Button(\n",
    "                    \"About\",\n",
    "                    className=\"btn btn-info\",\n",
    "                    n_clicks=0\n",
    "                ), style={'width': 104})\n",
    "        ], style={'margin-left': 15, 'margin-right': 15, 'display': 'flex'}),\n",
    "        html.Div([\n",
    "            html.Div([\n",
    "                html.H2('Unclearable Dropdown:'),\n",
    "                dcc.Dropdown(\n",
    "                    options=[\n",
    "                        {'label': 'Option A', 'value': 1},\n",
    "                        {'label': 'Option B', 'value': 2},\n",
    "                        {'label': 'Option C', 'value': 3}\n",
    "                    ],\n",
    "                    value=1,\n",
    "                    clearable=False,\n",
    "                    optionHeight=40,\n",
    "                    className='customDropdown'\n",
    "                )\n",
    "            ]),\n",
    "            html.Div([\n",
    "                html.H2('Unclearable Dropdown:'),\n",
    "                dcc.Dropdown(\n",
    "                    options=[\n",
    "                        {'label': 'Option A', 'value': 1},\n",
    "                        {'label': 'Option B', 'value': 2},\n",
    "                        {'label': 'Option C', 'value': 3}\n",
    "                    ],\n",
    "                    value=2,\n",
    "                    clearable=False,\n",
    "                    optionHeight=40,\n",
    "                    className='customDropdown'\n",
    "                )\n",
    "            ]),\n",
    "            html.Div([\n",
    "                html.H2('Clearable Dropdown:'),\n",
    "                dcc.Dropdown(\n",
    "                    options=[\n",
    "                        {'label': 'Option A', 'value': 1},\n",
    "                        {'label': 'Option B', 'value': 2},\n",
    "                        {'label': 'Option C', 'value': 3}\n",
    "                    ],\n",
    "                    clearable=True,\n",
    "                    optionHeight=40,\n",
    "                    className='customDropdown'\n",
    "                )\n",
    "            ])\n",
    "        ], style={'margin-left': 15, 'margin-right': 15, 'margin-top': 30}),\n",
    "        html.Div(\n",
    "            html.Img(src='assets/chill_roo.png',\n",
    "                     style={'margin-left': 15, 'margin-right': 15, 'margin-top': 30, 'width': 310})\n",
    "        )\n",
    "    ], style={\n",
    "        'width': 340,\n",
    "        'margin-left': 35,\n",
    "        'margin-top': 35,\n",
    "        'margin-bottom': 35\n",
    "    }),\n",
    "    html.Div(\n",
    "        [\n",
    "            html.Div(\n",
    "                dcc.Graph(\n",
    "                    figure=fig\n",
    "                ),\n",
    "                     style={'width': 790}),\n",
    "            html.Div([\n",
    "                html.H2('Output 1:'),\n",
    "                html.Div(className='Output'),\n",
    "                html.H2('Output 2:'),\n",
    "                html.Div(html.H3(\"Selected Value\"), className='Output')\n",
    "            ], style={'width': 198})\n",
    "        ],\n",
    "        style={\n",
    "            'width': 990,\n",
    "            'margin-top': 35,\n",
    "            'margin-right': 35,\n",
    "            'margin-bottom': 35,\n",
    "            'display': 'flex'\n",
    "        })\n",
    "],\n",
    "                           fluid=True,\n",
    "                           style={'display': 'flex'},\n",
    "                           className='dashboard-container')\n",
    "if __name__ == \"__main__\":\n",
    "    app.run_server(debug=True)"
   ]
  }
 ],
 "metadata": {
  "kernelspec": {
   "display_name": "Python 3 (ipykernel)",
   "language": "python",
   "name": "python3"
  },
  "language_info": {
   "codemirror_mode": {
    "name": "ipython",
    "version": 3
   },
   "file_extension": ".py",
   "mimetype": "text/x-python",
   "name": "python",
   "nbconvert_exporter": "python",
   "pygments_lexer": "ipython3",
   "version": "3.12.3"
  }
 },
 "nbformat": 4,
 "nbformat_minor": 5
}
