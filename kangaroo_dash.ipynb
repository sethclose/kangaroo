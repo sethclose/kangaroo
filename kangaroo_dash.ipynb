{
 "cells": [
  {
   "cell_type": "markdown",
   "id": "1929649c-c1cc-4dfa-87b4-a38e7beab0f9",
   "metadata": {},
   "source": [
    "# Model Dashboard"
   ]
  },
  {
   "cell_type": "markdown",
   "id": "2c8500f3-62ab-47b1-915e-e9eb19cb96f5",
   "metadata": {},
   "source": [
    "#### Links"
   ]
  },
  {
   "cell_type": "markdown",
   "id": "c0263c6e-0105-4c28-9b08-9df290d839e7",
   "metadata": {},
   "source": [
    "``https://medium.com/plotly/how-to-create-a-beautiful-interactive-dashboard-layout-in-python-with-plotly-dash-a45c57bb2f3c``"
   ]
  },
  {
   "cell_type": "markdown",
   "id": "7c3c9ea3-d31e-46f3-a0fc-f6eebb6e9fd3",
   "metadata": {},
   "source": [
    "``https://fonts.google.com/?query=poppins&preview.text=poppins.``"
   ]
  },
  {
   "cell_type": "markdown",
   "id": "f342f829-4e00-4bbc-b662-3545a1a3c038",
   "metadata": {},
   "source": [
    "``https://github.com/plotly/datasets/tree/master/dash-layout-tutorial``"
   ]
  },
  {
   "cell_type": "code",
   "execution_count": null,
   "id": "6c8e8799-d094-4ffc-95cd-8ec622994d6c",
   "metadata": {},
   "outputs": [],
   "source": []
  },
  {
   "cell_type": "markdown",
   "id": "14ab18f6-f56a-4ce9-97a9-834366b282c0",
   "metadata": {},
   "source": [
    "## Libraries"
   ]
  },
  {
   "cell_type": "code",
   "execution_count": 1,
   "id": "665251be-06ef-4374-8183-2a49b29ba296",
   "metadata": {},
   "outputs": [],
   "source": [
    "from dash import Dash, html, dcc\n",
    "import dash_bootstrap_components as dbc\n",
    "\n",
    "from dash import html, dcc\n",
    "from dash.dependencies import Input, Output, State\n",
    "\n",
    "import plotly.graph_objects as go\n",
    "import numpy as np\n",
    "import random"
   ]
  },
  {
   "cell_type": "markdown",
   "id": "3a5a4fcc-ce6f-4183-a813-5df5882bdeae",
   "metadata": {},
   "source": [
    "## App"
   ]
  },
  {
   "cell_type": "code",
   "execution_count": 2,
   "id": "594e189a-a052-408d-b32f-fcb3c3152752",
   "metadata": {},
   "outputs": [],
   "source": [
    "app = Dash(__name__, external_stylesheets=[dbc.themes.FLATLY])"
   ]
  },
  {
   "cell_type": "markdown",
   "id": "8c9e46b4-d577-436f-b31b-31ad35e7a193",
   "metadata": {},
   "source": [
    "## Figure"
   ]
  },
  {
   "cell_type": "code",
   "execution_count": 3,
   "id": "3aebb153-58c4-47e4-b467-4cf711106de7",
   "metadata": {},
   "outputs": [
    {
     "name": "stdout",
     "output_type": "stream",
     "text": [
      "Created Figure\n"
     ]
    }
   ],
   "source": [
    "star_fig = go.Figure(\n",
    "    go.Scattergl(\n",
    "        x = np.random.randn(1000),\n",
    "        y = np.random.randn(1000),\n",
    "        mode='markers',\n",
    "        marker=dict(color=random.sample(['#ecf0f1']*500 + [\"#3498db\"]*500, 1000), line_width=1)\n",
    "    )\n",
    ")\n",
    "star_fig.update_layout(plot_bgcolor='#010103', width=790, height=730,\n",
    "                  xaxis_visible=False, yaxis_visible=False, \n",
    "                  showlegend=False, margin=dict(l=0,r=0,t=0,b=0))\n",
    "print('Created Figure')"
   ]
  },
  {
   "cell_type": "markdown",
   "id": "c3ae0a36-c801-4e0f-a6f5-13819eb2c41b",
   "metadata": {},
   "source": [
    "## Callbacks"
   ]
  },
  {
   "cell_type": "markdown",
   "id": "6c61af6f-0ee3-4253-b780-2dc80b94183f",
   "metadata": {},
   "source": [
    "### Options"
   ]
  },
  {
   "cell_type": "code",
   "execution_count": 4,
   "id": "4b7fba2e-1004-4fa5-9985-067317af7fac",
   "metadata": {},
   "outputs": [],
   "source": [
    "@app.callback([Output(component_id='option-one', component_property='children'),\n",
    "               Output(component_id='option-two', component_property='children'),\n",
    "               Output(component_id='option-three', component_property='children')],\n",
    "              [Input(component_id='select-one', component_property='value'),\n",
    "               Input(component_id='select-two', component_property='value'),\n",
    "               Input(component_id='select-three', component_property='value')],\n",
    "              [State(\"select-one\",\"options\"),\n",
    "               State(\"select-two\",\"options\"),\n",
    "               State(\"select-three\",\"options\")])\n",
    "\n",
    "def display_option (value_one, value_two, value_three, options_one, options_two, options_three):\n",
    "    \n",
    "    label_one = [opt['label'] for opt in options_one if opt['value'] == value_one][0]\n",
    "    label_two = [opt['label'] for opt in options_two if opt['value'] == value_two][0]\n",
    "    label_three = \"None\" if not value_three else [opt['label'] for opt in options_three if opt['value'] == value_three][0]\n",
    "    \n",
    "    return [html.Div(html.H3(label_one), className='Output'),\n",
    "            html.Div(html.H3(label_two), className='Output'),\n",
    "            html.Div(html.H3(label_three), className='Output')]"
   ]
  },
  {
   "cell_type": "markdown",
   "id": "5ec63360-0d01-4cef-a25b-80b8765f5b97",
   "metadata": {},
   "source": [
    "### Figure"
   ]
  },
  {
   "cell_type": "code",
   "execution_count": 5,
   "id": "6b95d940-d374-4ceb-99e9-8b70c8e84c96",
   "metadata": {},
   "outputs": [],
   "source": [
    "@app.callback([Output(component_id='star-container', component_property='children')],\n",
    "                Input(component_id='select-one', component_property='value'))\n",
    "\n",
    "def display_star (select_one_value):\n",
    "    return [html.Div(className='chart-item', children=[dcc.Graph(figure=star_fig)], style={'display': 'flex'})]"
   ]
  },
  {
   "cell_type": "markdown",
   "id": "a710a64c-0cc1-429e-adad-fbd884c94688",
   "metadata": {},
   "source": [
    "## Layout"
   ]
  },
  {
   "cell_type": "code",
   "execution_count": 6,
   "id": "fc7c1076-e3c6-40ea-a4bb-bed620a565e4",
   "metadata": {},
   "outputs": [],
   "source": [
    "app.layout = dbc.Container([\n",
    "    html.Div([\n",
    "        \n",
    "        html.Div([\n",
    "            html.H1([\n",
    "                html.Span(\"Welcome\"),\n",
    "                html.Br(),\n",
    "                html.Span(\"to my beautiful dashboard!\")\n",
    "            ]),\n",
    "            html.\n",
    "            P(\"This dashboard prototype shows how to create an effective layout.\"\n",
    "              )\n",
    "        ],  style={\"vertical-alignment\": \"top\", \"height\": 260}),\n",
    "        \n",
    "        html.Div([\n",
    "            html.Div(\n",
    "                dbc.RadioItems(\n",
    "                    className='btn-group',\n",
    "                    inputClassName='btn-check',\n",
    "                    labelClassName=\"btn btn-outline-light\",\n",
    "                    labelCheckedClassName=\"btn btn-light\",\n",
    "                    options=[\n",
    "                        {\"label\": \"Graph\", \"value\": 1},\n",
    "                        {\"label\": \"Table\", \"value\": 2}\n",
    "                    ],\n",
    "                    value=1,\n",
    "                    style={'width': '100%'}\n",
    "                ), style={'width': 206}\n",
    "            ),\n",
    "            html.Div(\n",
    "                dbc.Button(\n",
    "                    \"About\",\n",
    "                    className=\"btn btn-info\",\n",
    "                    n_clicks=0\n",
    "                ), style={'width': 104})\n",
    "        ], style={'margin-left': 15, 'margin-right': 15, 'display': 'flex'}),\n",
    "        \n",
    "        html.Div([\n",
    "            html.Div([\n",
    "                html.H2('Unclearable Dropdown:'),\n",
    "                dcc.Dropdown(\n",
    "                    id='select-one',\n",
    "                    options=[\n",
    "                        {'label': 'Option A', 'value': 1},\n",
    "                        {'label': 'Option B', 'value': 2},\n",
    "                        {'label': 'Option C', 'value': 3}\n",
    "                    ],\n",
    "                    value=1,\n",
    "                    clearable=False,\n",
    "                    optionHeight=40,\n",
    "                    className='customDropdown'\n",
    "                )\n",
    "            ]),\n",
    "            html.Div([\n",
    "                html.H2('Unclearable Dropdown:'),\n",
    "                dcc.Dropdown(\n",
    "                    id='select-two',\n",
    "                    options=[\n",
    "                        {'label': 'Option A', 'value': 1},\n",
    "                        {'label': 'Option B', 'value': 2},\n",
    "                        {'label': 'Option C', 'value': 3}\n",
    "                    ],\n",
    "                    value=1,\n",
    "                    clearable=False,\n",
    "                    optionHeight=40,\n",
    "                    className='customDropdown'\n",
    "                )\n",
    "            ]),\n",
    "            html.Div([\n",
    "                html.H2('Clearable Dropdown:'),\n",
    "                dcc.Dropdown(\n",
    "                    id='select-three',\n",
    "                    options=[\n",
    "                        {'label': 'Option A', 'value': 1},\n",
    "                        {'label': 'Option B', 'value': 2},\n",
    "                        {'label': 'Option C', 'value': 3}\n",
    "                    ],\n",
    "                    clearable=True,\n",
    "                    optionHeight=40,\n",
    "                    className='customDropdown'\n",
    "                )\n",
    "            ])\n",
    "        ], style={'margin-left': 15, 'margin-right': 15, 'margin-top': 30}),\n",
    "        html.Div(\n",
    "            html.Img(src='assets/chill_roo.png',\n",
    "                     style={'margin-left': 15, 'margin-right': 15, 'margin-top': 30, 'width': 310})\n",
    "        )\n",
    "    ], style={\n",
    "        'width': 340,\n",
    "        'margin-left': 35,\n",
    "        'margin-top': 35,\n",
    "        'margin-bottom': 35\n",
    "    }),\n",
    "    html.Div(\n",
    "        [\n",
    "            #html.Div(dcc.Graph(figure=star_fig), style={'width': 790}),\n",
    "            \n",
    "            html.Div(id='star-container', className='chart-grid', style={'width': 790}),\n",
    "            \n",
    "            html.Div([\n",
    "                html.H2('Output 1:'),\n",
    "                html.Div(html.H3(\"Selected Value\"), className='Output', id='option-one'),\n",
    "                html.H2('Output 2:'),\n",
    "                html.Div(html.H3(\"Selected Value\"), className='Output', id='option-two'),\n",
    "                html.H2('Output 3:'),\n",
    "                html.Div(html.H3(\"Selected Value\"), className='Output', id='option-three'),                \n",
    "            ],  style={'width': 198}),\n",
    "        ],\n",
    "        style={\n",
    "            'width': 990,\n",
    "            'margin-top': 35,\n",
    "            'margin-right': 35,\n",
    "            'margin-bottom': 35,\n",
    "            'display': 'flex'\n",
    "        })\n",
    "],\n",
    "   fluid=True,\n",
    "   style={'display': 'flex'},\n",
    "   className='dashboard-container')"
   ]
  },
  {
   "cell_type": "markdown",
   "id": "ada55ab3-77af-4fd6-a4c0-2f3fbc6e766d",
   "metadata": {},
   "source": [
    "## Launch"
   ]
  },
  {
   "cell_type": "code",
   "execution_count": 7,
   "id": "11f6fcb8-a58e-43f4-9c05-88549a72184b",
   "metadata": {},
   "outputs": [
    {
     "data": {
      "text/html": [
       "\n",
       "        <iframe\n",
       "            width=\"100%\"\n",
       "            height=\"650\"\n",
       "            src=\"http://127.0.0.1:8050/\"\n",
       "            frameborder=\"0\"\n",
       "            allowfullscreen\n",
       "            \n",
       "        ></iframe>\n",
       "        "
      ],
      "text/plain": [
       "<IPython.lib.display.IFrame at 0x1e5ff564d40>"
      ]
     },
     "metadata": {},
     "output_type": "display_data"
    }
   ],
   "source": [
    "if __name__ == \"__main__\":\n",
    "    app.run_server(debug=True)"
   ]
  }
 ],
 "metadata": {
  "kernelspec": {
   "display_name": "Python 3 (ipykernel)",
   "language": "python",
   "name": "python3"
  },
  "language_info": {
   "codemirror_mode": {
    "name": "ipython",
    "version": 3
   },
   "file_extension": ".py",
   "mimetype": "text/x-python",
   "name": "python",
   "nbconvert_exporter": "python",
   "pygments_lexer": "ipython3",
   "version": "3.12.3"
  }
 },
 "nbformat": 4,
 "nbformat_minor": 5
}
