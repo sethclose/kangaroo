{
 "cells": [
  {
   "cell_type": "markdown",
   "id": "1929649c-c1cc-4dfa-87b4-a38e7beab0f9",
   "metadata": {},
   "source": [
    "# Kangaroo Dashboard"
   ]
  },
  {
   "cell_type": "markdown",
   "id": "2c8500f3-62ab-47b1-915e-e9eb19cb96f5",
   "metadata": {},
   "source": [
    "#### Links"
   ]
  },
  {
   "attachments": {},
   "cell_type": "markdown",
   "id": "9b8926c0-d90a-4fd0-a8f5-848f205046ba",
   "metadata": {},
   "source": [
    "``https://medium.com/plotly/how-to-create-a-beautiful-interactive-dashboard-layout-in-python-with-plotly-dash-a45c57bb2f3c``\\\n",
    "``https://fonts.google.com/?query=poppins&preview.text=poppins.``\\\n",
    "``https://github.com/plotly/datasets/tree/master/dash-layout-tutorial``"
   ]
  },
  {
   "cell_type": "markdown",
   "id": "14ab18f6-f56a-4ce9-97a9-834366b282c0",
   "metadata": {},
   "source": [
    "## Libraries"
   ]
  },
  {
   "cell_type": "code",
   "execution_count": 1,
   "id": "665251be-06ef-4374-8183-2a49b29ba296",
   "metadata": {},
   "outputs": [],
   "source": [
    "from dash import Dash, html, dcc\n",
    "import dash_bootstrap_components as dbc\n",
    "from dash.dependencies import Input, Output, State\n",
    "\n",
    "import pandas as pd\n",
    "import numpy as np\n",
    "import plotly.graph_objects as go\n",
    "import random"
   ]
  },
  {
   "cell_type": "markdown",
   "id": "fbf375cb-c22a-4ba9-8214-93f1b649b5ef",
   "metadata": {},
   "source": [
    "## Data"
   ]
  },
  {
   "cell_type": "code",
   "execution_count": 2,
   "id": "cba9266a-c86c-4b70-af9a-eb103f060a79",
   "metadata": {},
   "outputs": [],
   "source": [
    "df = pd.read_csv('./kangaroo.csv', encoding='utf-8')  "
   ]
  },
  {
   "cell_type": "code",
   "execution_count": 3,
   "id": "9de066e0-5931-41ba-a4f7-34e7288db6e5",
   "metadata": {},
   "outputs": [],
   "source": [
    "year_list = np.sort(df.Year.unique())\n",
    "year_list = year_list.astype('str') \n",
    "year_list = np.insert(year_list, 0, 'All')"
   ]
  },
  {
   "cell_type": "code",
   "execution_count": 4,
   "id": "a368f732-d9dc-47f7-ada8-118d3184ac97",
   "metadata": {},
   "outputs": [],
   "source": [
    "colors_bright =  ['#ff3d44', '#74eafc', '#80f569', '#ffb85c', '#e969f5', '#fcfa62']\n",
    "#                  red        blue       green      orange     violet     yellow\n",
    "colors_rainbow = ['red',     'orange',  'yellow',  'green',   'blue',    'purple']\n",
    "#                  red        orange     yellow     green      blue       violet\n",
    "colors_pastel = ['#F2C6DE', '#C6DEF1', '#C9E4DE', '#F7D9C4', '#DBCDF0', '#FAEDCB']\n",
    "#                  red        blue       green      orange     violet     yellow\n",
    "colors = colors_bright"
   ]
  },
  {
   "cell_type": "markdown",
   "id": "3a5a4fcc-ce6f-4183-a813-5df5882bdeae",
   "metadata": {},
   "source": [
    "## App"
   ]
  },
  {
   "cell_type": "code",
   "execution_count": 5,
   "id": "594e189a-a052-408d-b32f-fcb3c3152752",
   "metadata": {},
   "outputs": [],
   "source": [
    "app = Dash(__name__, external_stylesheets=[dbc.themes.FLATLY])"
   ]
  },
  {
   "cell_type": "markdown",
   "id": "2688ac13-3aae-4a2b-8155-d5e9590764f4",
   "metadata": {},
   "source": [
    "## Charts"
   ]
  },
  {
   "cell_type": "markdown",
   "id": "78756e9e-daa0-4ee1-915c-9c731a6c59d5",
   "metadata": {},
   "source": [
    "### go.scatter species by year (fig_a)"
   ]
  },
  {
   "cell_type": "code",
   "execution_count": 6,
   "id": "9a4938bd-cc18-4cdc-905d-24cdd20d1d37",
   "metadata": {},
   "outputs": [
    {
     "name": "stdout",
     "output_type": "stream",
     "text": [
      "Created Species Graph\n"
     ]
    }
   ],
   "source": [
    "df_a = df.groupby(['Year']).sum()\n",
    "df_a.drop('State', axis=1, inplace=True)\n",
    "df_a.reset_index(inplace=True)\n",
    "fig_a = go.Figure()\n",
    "for i in range(len(df_a.columns[1:])):\n",
    "    fig_a.add_trace(go.Scatter(x = df_a.Year.to_list(), \n",
    "                               y = df_a[df_a.columns[1:][i]].to_list(), \n",
    "                               opacity = 0.8, \n",
    "                               mode = 'lines', \n",
    "                               name = df_a.columns[1:][i], \n",
    "                               marker = dict(color=colors[i]),\n",
    "                               line = dict(width=6.0),))\n",
    "fig_a.update_layout(xaxis_title='Years', \n",
    "                    yaxis_title='Population', \n",
    "                    template = 'plotly_dark', \n",
    "                    width=790, height=730)\n",
    "print('Created Species Graph')"
   ]
  },
  {
   "cell_type": "markdown",
   "id": "24b70422-1e43-409f-a204-8768b32d65f4",
   "metadata": {},
   "source": [
    "### go.scatter province by year (fig_b)"
   ]
  },
  {
   "cell_type": "code",
   "execution_count": 7,
   "id": "4ec848eb-7ca2-4143-b5dd-1c33f2ef6f88",
   "metadata": {},
   "outputs": [
    {
     "name": "stdout",
     "output_type": "stream",
     "text": [
      "Created Province Graph\n"
     ]
    }
   ],
   "source": [
    "df_b = df.loc[:]\n",
    "df_b['Total'] = df_b.sum(axis=1, numeric_only=True)\n",
    "df_b = df_b[['Year','State','Total']]\n",
    "df_b = df_b.groupby(['Year', 'State']).mean()\n",
    "df_b = df_b.pivot_table(values='Total', index='Year', columns='State').reset_index()\n",
    "df_b.rename_axis(None, axis=1, inplace=True)\n",
    "fig_b = go.Figure()\n",
    "for i in range(len(df_b.columns[1:])):\n",
    "    fig_b.add_trace(go.Scatter(x = df_b.Year.to_list(), \n",
    "                               y = df_b[df_b.columns[1:][i]].to_list(), \n",
    "                               opacity = 0.8,\n",
    "                               mode = 'lines', \n",
    "                               marker = dict(color=colors[2+i]), \n",
    "                               name = df_b.columns[1:][i],\n",
    "                               line = dict(width=6.0),))\n",
    "fig_b.update_layout(xaxis_title = 'Years', \n",
    "                    yaxis_title='Population', \n",
    "                    template = 'plotly_dark', \n",
    "                    width=790, height=730)\n",
    "print('Created Province Graph')"
   ]
  },
  {
   "cell_type": "markdown",
   "id": "8c9e46b4-d577-436f-b31b-31ad35e7a193",
   "metadata": {},
   "source": [
    "### go.Scttergl (star_fig)"
   ]
  },
  {
   "cell_type": "code",
   "execution_count": 8,
   "id": "3aebb153-58c4-47e4-b467-4cf711106de7",
   "metadata": {},
   "outputs": [
    {
     "name": "stdout",
     "output_type": "stream",
     "text": [
      "Created Star Chart\n"
     ]
    }
   ],
   "source": [
    "star_fig = go.Figure(\n",
    "    go.Scattergl(\n",
    "        x = np.random.randn(1000),\n",
    "        y = np.random.randn(1000),\n",
    "        mode='markers',\n",
    "        marker=dict(color=random.sample(['#ecf0f1']*500 + [\"#3498db\"]*500, 1000), line_width=1)\n",
    "    )\n",
    ")\n",
    "star_fig.update_layout(template = 'plotly_dark', width=790, height=730,\n",
    "                  xaxis_visible=False, yaxis_visible=False, \n",
    "                  showlegend=False, margin=dict(l=0,r=0,t=0,b=0))\n",
    "print('Created Star Chart')"
   ]
  },
  {
   "cell_type": "markdown",
   "id": "c3ae0a36-c801-4e0f-a6f5-13819eb2c41b",
   "metadata": {},
   "source": [
    "## Callbacks"
   ]
  },
  {
   "cell_type": "markdown",
   "id": "6c61af6f-0ee3-4253-b780-2dc80b94183f",
   "metadata": {},
   "source": [
    "### Radio"
   ]
  },
  {
   "cell_type": "code",
   "execution_count": 9,
   "id": "4b7fba2e-1004-4fa5-9985-067317af7fac",
   "metadata": {},
   "outputs": [],
   "source": [
    "    @app.callback([Output(component_id='radio-out', component_property='children')],\n",
    "                  [Input(component_id='select-radio', component_property='value')],\n",
    "                  [State(\"select-radio\",\"options\")])\n",
    "    \n",
    "    def display_buttons(value_radio, options_radio):\n",
    "        label_radio = [opt['label'] for opt in options_radio if opt['value'] == value_radio][0]\n",
    "        return [html.Div(html.H3(label_radio), className='Output'),]        "
   ]
  },
  {
   "cell_type": "markdown",
   "id": "efaacfb7-f1ef-469d-a669-f388c5b3288e",
   "metadata": {},
   "source": [
    "### Dropdowns"
   ]
  },
  {
   "cell_type": "code",
   "execution_count": 10,
   "id": "d0666f8e-fa35-4cb4-be3e-bdbe9f20ee37",
   "metadata": {},
   "outputs": [],
   "source": [
    "@app.callback([Output(component_id='option-one', component_property='children'),\n",
    "               Output(component_id='option-two', component_property='children'),\n",
    "               Output(component_id='option-three', component_property='children')],\n",
    "              [Input(component_id='select-one', component_property='value'),\n",
    "               Input(component_id='select-two', component_property='value'),\n",
    "               Input(component_id='select-three', component_property='value')],\n",
    "              [State(\"select-one\",\"options\"),\n",
    "               State(\"select-two\",\"options\"),\n",
    "               State(\"select-three\",\"options\")])\n",
    "\n",
    "def display_option (value_one, value_two, value_three, options_one, options_two, options_three):\n",
    "    \n",
    "    label_one =   [opt['label'] for opt in options_one if opt['value'] == value_one][0]\n",
    "    label_two =   [opt['label'] for opt in options_two if opt['value'] == value_two][0]\n",
    "    label_three = [opt['label'] for opt in options_three if opt['value'] == value_three][0]\n",
    "    \n",
    "    return [html.Div(html.H3(label_one), className='Output'),\n",
    "            html.Div(html.H3(label_two), className='Output'),\n",
    "            html.Div(html.H3(label_three), className='Output')]"
   ]
  },
  {
   "cell_type": "markdown",
   "id": "5ec63360-0d01-4cef-a25b-80b8765f5b97",
   "metadata": {},
   "source": [
    "### Figure"
   ]
  },
  {
   "cell_type": "code",
   "execution_count": 11,
   "id": "6b95d940-d374-4ceb-99e9-8b70c8e84c96",
   "metadata": {},
   "outputs": [],
   "source": [
    "@app.callback([Output(component_id='plot-container', component_property='children')],\n",
    "              [Input(component_id='select-one', component_property='value'),\n",
    "               Input(component_id='select-radio', component_property='value')])\n",
    "\n",
    "def display_star (select_one_value, select_radio_value):\n",
    "\n",
    "    if select_radio_value == 1:\n",
    "        if select_one_value == 1: \n",
    "            fig = fig_a\n",
    "        else: \n",
    "            fig = fig_b\n",
    "    else:\n",
    "        fig = star_fig\n",
    "    \n",
    "    return [html.Div(dcc.Graph(figure=fig), style={'display': 'flex'})]"
   ]
  },
  {
   "cell_type": "markdown",
   "id": "a710a64c-0cc1-429e-adad-fbd884c94688",
   "metadata": {},
   "source": [
    "## Layout"
   ]
  },
  {
   "cell_type": "code",
   "execution_count": 12,
   "id": "fc7c1076-e3c6-40ea-a4bb-bed620a565e4",
   "metadata": {},
   "outputs": [],
   "source": [
    "app.layout = dbc.Container([\n",
    "    html.Div([\n",
    "        \n",
    "        html.Div([\n",
    "            html.H1([\n",
    "                html.Span(\"Kangaroo\"),\n",
    "                html.Br(),\n",
    "                html.Span(\"Population\"),\n",
    "                html.Br(),\n",
    "                html.Span(\"Australia\")\n",
    "            ]),\n",
    "            html.\n",
    "            P(\"Analysis of population of four species of kangaroos by Australian province for the years 2001 to 2011\")\n",
    "        ],  style={\"vertical-alignment\": \"top\", \"height\": 260}),\n",
    "        \n",
    "        html.Div([\n",
    "            html.Div(\n",
    "                dbc.RadioItems(\n",
    "                    id = 'select-radio',\n",
    "                    className='btn-group',\n",
    "                    inputClassName='btn-check',\n",
    "                    labelClassName=\"btn btn-outline-light\",\n",
    "                    labelCheckedClassName=\"btn btn-light\",\n",
    "                    options=[\n",
    "                        {\"label\": \"Graph\", \"value\": 1},\n",
    "                        {\"label\": \"Chart\", \"value\": 2},\n",
    "                        {\"label\": \"About\", \"value\": 3}\n",
    "                    ],\n",
    "                    value=1,\n",
    "                    style={'width': '100%'}\n",
    "                ), style={'width': 309}\n",
    "            ),\n",
    "        ], style={'margin-left': 15, 'margin-right': 15, 'display': 'flex'}),\n",
    "        \n",
    "        html.Div([\n",
    "            html.Div([\n",
    "                html.H2('Category'),\n",
    "                dcc.Dropdown(\n",
    "                    id='select-one',\n",
    "                    options=[\n",
    "                        {'label': 'Species',  'value': 1},\n",
    "                        {'label': 'Province', 'value': 2}                   \n",
    "                    ],\n",
    "                    value=1,\n",
    "                    clearable=False,\n",
    "                    optionHeight=40,\n",
    "                    className='customDropdown'\n",
    "                )\n",
    "            ]),\n",
    "            html.Div([\n",
    "                html.H2('Palette'),\n",
    "                dcc.Dropdown(\n",
    "                    id='select-two',\n",
    "                    options=[\n",
    "                        {'label': 'Bright', 'value': 1},\n",
    "                        {'label': 'Rainbow', 'value': 2},\n",
    "                        {'label': 'Pastel', 'value': 3}\n",
    "                    ],\n",
    "                    value=1,\n",
    "                    clearable=False,\n",
    "                    optionHeight=40,\n",
    "                    className='customDropdown'\n",
    "                )\n",
    "            ]),\n",
    "            html.Div([\n",
    "                html.H2('Year'),\n",
    "                dcc.Dropdown(\n",
    "                    id='select-three',\n",
    "                    options=[{'label': str(y), 'value': y} for y in year_list],\n",
    "                    value='All',\n",
    "                    clearable=False,\n",
    "                    optionHeight=40,\n",
    "                    className='customDropdown'\n",
    "                )\n",
    "            ])\n",
    "        ], style={'margin-left': 15, 'margin-right': 15, 'margin-top': 30}),\n",
    "        \n",
    "        html.Div(\n",
    "            html.Img(src='assets/logo6.png', style={'margin-left': 15, \n",
    "                                                    'margin-right': 15, \n",
    "                                                    'margin-top': 30, \n",
    "                                                    'width': 310})\n",
    "        )\n",
    "    ], style={\n",
    "        'width': 340,\n",
    "        'margin-left': 35,\n",
    "        'margin-top': 35,\n",
    "        'margin-bottom': 35\n",
    "    }),\n",
    "    html.Div(\n",
    "        [         \n",
    "            html.Div(id='plot-container', className='chart-item', style={'width': 790}),\n",
    "            \n",
    "            html.Div([       \n",
    "                html.H2('Type'),\n",
    "                html.Div(html.H3(\"Selected Radio\"), className='Output', id='radio-out'),\n",
    "                html.H2('Category'),\n",
    "                html.Div(html.H3(\"Selected Value\"), className='Output', id='option-one'),\n",
    "                html.H2('Color'),\n",
    "                html.Div(html.H3(\"Selected Value\"), className='Output', id='option-two'),\n",
    "                html.H2('Year'),\n",
    "                html.Div(html.H3(\"Selected Value\"), className='Output', id='option-three'),      \n",
    "            ],  style={'width': 198}),\n",
    "        ],\n",
    "        style={\n",
    "            'width': 990,\n",
    "            'margin-top': 35,\n",
    "            'margin-right': 35,\n",
    "            'margin-bottom': 35,\n",
    "            'display': 'flex'\n",
    "        })\n",
    "],\n",
    "   fluid=True,\n",
    "   style={'display': 'flex'},\n",
    "   className='dashboard-container')"
   ]
  },
  {
   "cell_type": "markdown",
   "id": "ada55ab3-77af-4fd6-a4c0-2f3fbc6e766d",
   "metadata": {},
   "source": [
    "## Launch"
   ]
  },
  {
   "cell_type": "code",
   "execution_count": 13,
   "id": "11f6fcb8-a58e-43f4-9c05-88549a72184b",
   "metadata": {},
   "outputs": [
    {
     "data": {
      "text/html": [
       "\n",
       "        <iframe\n",
       "            width=\"100%\"\n",
       "            height=\"650\"\n",
       "            src=\"http://127.0.0.1:8502/\"\n",
       "            frameborder=\"0\"\n",
       "            allowfullscreen\n",
       "            \n",
       "        ></iframe>\n",
       "        "
      ],
      "text/plain": [
       "<IPython.lib.display.IFrame at 0x219dc877fb0>"
      ]
     },
     "metadata": {},
     "output_type": "display_data"
    }
   ],
   "source": [
    "if __name__ == '__main__':\n",
    "    app.run_server(port=8502,\n",
    "                   debug=True,\n",
    "                   mode='jupyterlab',\n",
    "                   dev_tools_ui=True,\n",
    "                   dev_tools_hot_reload=True, \n",
    "                   threaded=True)"
   ]
  }
 ],
 "metadata": {
  "kernelspec": {
   "display_name": "Python 3 (ipykernel)",
   "language": "python",
   "name": "python3"
  },
  "language_info": {
   "codemirror_mode": {
    "name": "ipython",
    "version": 3
   },
   "file_extension": ".py",
   "mimetype": "text/x-python",
   "name": "python",
   "nbconvert_exporter": "python",
   "pygments_lexer": "ipython3",
   "version": "3.12.3"
  }
 },
 "nbformat": 4,
 "nbformat_minor": 5
}
